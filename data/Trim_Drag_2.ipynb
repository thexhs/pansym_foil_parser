{
 "cells": [
  {
   "cell_type": "code",
   "execution_count": 1,
   "metadata": {},
   "outputs": [],
   "source": [
    "import pandas as pd\n",
    "import matplotlib.pyplot as plt\n",
    "import numpy as np\n",
    "import scipy as sp\n",
    "from scipy.interpolate import interp1d\n",
    "\n",
    "df = pd.read_csv('deltas.csv')"
   ]
  },
  {
   "cell_type": "code",
   "execution_count": 8,
   "metadata": {},
   "outputs": [
    {
     "name": "stdout",
     "output_type": "stream",
     "text": [
      "[ 0.          4.67342518  9.82924313 15.04325199 19.82009831 23.73653638\n",
      " 26.56290177 28.27634906 29.01735628 29.00276734 28.45060298 27.54685224\n",
      " 26.43416143 25.21303208 23.94846412 22.67912224 21.42923593 20.21279646\n",
      " 19.03903766 17.90309276 16.76340137 15.60890084 14.48709384 13.4846015\n",
      " 12.73848004] [ 0.          4.6288799   9.76607978 14.99003493 19.7996533  23.75344477\n",
      " 26.60167565 28.32013549 29.0470149  29.00978649 28.43366029 27.51295467\n",
      " 26.39573853 25.18818787 23.9570343  22.74723907 21.58320785 20.47937637\n",
      " 19.44228842 18.47261979 17.56878935 16.72783858 15.94689178 15.22228189\n",
      " 14.55000737] [ 0.         -0.04454529 -0.06316335 -0.05321706 -0.02044501  0.01690838\n",
      "  0.03877388  0.04378643  0.02965863  0.00701915 -0.01694269 -0.03389757\n",
      " -0.0384229  -0.02484421  0.00857018  0.06811683  0.15397192  0.26657991\n",
      "  0.40325076  0.56952703  0.80538798  1.11893774  1.45979794  1.73768039\n",
      "  1.81152733]\n"
     ]
    },
    {
     "data": {
      "image/png": "[encoded data removed]",
      "text/plain": [
       "<Figure size 432x288 with 1 Axes>"
      ]
     },
     "metadata": {
      "needs_background": "light"
     },
     "output_type": "display_data"
    }
   ],
   "source": [
    "#Initialize some global variable, used by all subsequent function\n",
    "sd = df.query('Layout == 5 & Wing == 0 & Span == 0.25')\n",
    "deflection = np.arange(-10,12,2)\n",
    "Mz = np.zeros_like(deflection, dtype = float)\n",
    "Cx = np.zeros_like(deflection, dtype = float)\n",
    "Cy = np.arange(0,1.25,0.05)\n",
    "dV = np.zeros_like(Cy, dtype = float)\n",
    "\n",
    "\n",
    "#Function that return array of Mz = f(dV) values correspond at specific Cy (one point)\n",
    "def getMzDv(Cy_point, sd):\n",
    "    for i in np.ndenumerate(deflection):\n",
    "        sd1 = sd.loc[(sd['dV'] == i[1])]\n",
    "        Mz_1 = np.flip(sd1.iloc[:]['Mz'].values,0)\n",
    "        Cy_1 = np.flip(sd1.iloc[:]['Cy'].values,0)\n",
    "        Mz[i[0]] = sp.interpolate.interp1d(Cy_1, Mz_1, kind = 'quadratic',\n",
    "                                          bounds_error = False, fill_value = 'extrapolate')(Cy_point)\n",
    "    return Mz\n",
    "\n",
    "#Function that return array of dV = f(Cy) values at specific Cy (array) with zero Mz condition\n",
    "def getDvCy(Cy_arr, sd):\n",
    "    for j in np.ndenumerate(Cy_arr):\n",
    "        Mz_2 = getMzDv(Cy_arr[j[0]], sd)\n",
    "        dV[j[0]] = sp.interpolate.interp1d(Mz_2, deflection, kind = 'quadratic',\n",
    "                                          bounds_error = False, fill_value = 'extrapolate')(0)\n",
    "    return dV\n",
    "\n",
    "#Function, that return array of Cx = f(dV) values correspond at specific Cy (one point)\n",
    "def getCxDv(Cy_point, sd):\n",
    "    for i in np.ndenumerate(deflection):\n",
    "        sd2 = sd.loc[(sd['dV'] == i[1])]\n",
    "        Cx_1 = np.flip(sd2.iloc[:]['Cx'].values,0)\n",
    "        Cy_1 = np.flip(sd2.iloc[:]['Cy'].values,0)\n",
    "        Cx[i[0]] = sp.interpolate.interp1d(Cy_1, Cx_1, kind = 'quadratic',\n",
    "                                          bounds_error = False, fill_value = 'extrapolate')(Cy_point)\n",
    "    return Cx    \n",
    "\n",
    "#Function that return array of Cx = f(Cy) values at specific Cy (array) with zero Mz condition\n",
    "def getDvCx(Cy_arr, dV_arr, sd):\n",
    "    Cx_arr = np.zeros_like(Cy_arr, dtype = float)\n",
    "    for j in np.ndenumerate(Cy_arr):\n",
    "        Cx_2 = getCxDv(Cy_arr[j[0]],sd)\n",
    "        Cx_arr[j[0]] = sp.interpolate.interp1d(deflection, Cx_2, kind = 'quadratic',\n",
    "                                               bounds_error = False, fill_value = 'extrapolate')(dV_arr[j[0]])\n",
    "    return Cx_arr\n",
    "\n",
    "#Function that return array of Cx = f(Cy) values at specific Cy (array) with zero dV deflection\n",
    "def getDvCxZero(Cy_arr, sd):\n",
    "    sd3 = sd.loc[(sd['dV'] == 0)]\n",
    "    Cx_3 = np.flip(sd3.iloc[:]['Cx'].values,0)\n",
    "    Cy_3 = np.flip(sd3.iloc[:]['Cy'].values,0)\n",
    "    Cx_arr_0 = np.zeros_like(Cy_arr, dtype = float)\n",
    "    Cx_arr_0 = sp.interpolate.interp1d(Cy_3, Cx_3, kind = 'quadratic',\n",
    "                                       bounds_error = False, fill_value = 'extrapolate')(Cy_arr)\n",
    "    return Cx_arr_0\n",
    "\n",
    "#Obtain data\n",
    "dV = getDvCy(Cy,sd)\n",
    "K1 = Cy/getDvCx(Cy,dV,sd)\n",
    "K2 = Cy/getDvCxZero(Cy,sd)\n",
    "dK = K2-K1\n",
    "#Print and Plot\n",
    "print(K1.T,K2.T,dK.T)\n",
    "ax = plt.gca()\n",
    "ax.grid()\n",
    "ax.set_xlim(0,1.2)\n",
    "ax.set_ylim(0,30)\n",
    "plt.plot(Cy,K1,':r')\n",
    "plt.plot(Cy,K2,'--b')\n",
    "plt.show()"
   ]
  },
  {
   "cell_type": "code",
   "execution_count": null,
   "metadata": {},
   "outputs": [],
   "source": []
  }
 ],
 "metadata": {
  "kernelspec": {
   "display_name": "Python 3",
   "language": "python",
   "name": "python3"
  },
  "language_info": {
   "codemirror_mode": {
    "name": "ipython",
    "version": 3
   },
   "file_extension": ".py",
   "mimetype": "text/x-python",
   "name": "python",
   "nbconvert_exporter": "python",
   "pygments_lexer": "ipython3",
   "version": "3.7.2"
  }
 },
 "nbformat": 4,
 "nbformat_minor": 2
}
