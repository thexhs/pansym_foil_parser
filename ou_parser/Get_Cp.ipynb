{
 "cells": [
  {
   "cell_type": "code",
   "execution_count": 112,
   "metadata": {},
   "outputs": [
    {
     "data": {
      "image/png": "[encoded data removed]",
      "text/plain": [
       "<Figure size 432x288 with 1 Axes>"
      ]
     },
     "metadata": {
      "needs_background": "light"
     },
     "output_type": "display_data"
    }
   ],
   "source": [
    "from typing import List, Dict\n",
    "\n",
    "#Split *.Ou file by string list, dict key is AoA\n",
    "def Split_Section_AoA(fname:str)->Dict[float,List[str]]:\n",
    "    f = None\n",
    "    cDict = {}\n",
    "    try:\n",
    "        f = open(fname)\n",
    "        Cur_AoA = None\n",
    "        for line in f:\n",
    "            #Add line for proper list inside Dict\n",
    "            if Cur_AoA != None:\n",
    "                cDict[Cur_AoA].append(line)\n",
    "            #Start of section of interest\n",
    "            if \"  ALPHA=\" in line:\n",
    "                #print('ALPHA=',line[25:35])\n",
    "                Cur_AoA = float(line[25:35])\n",
    "                cDict[Cur_AoA] = [line]\n",
    "            #End of section of interest\n",
    "    #except:\n",
    "        #print('File not found')\n",
    "    finally:\n",
    "        if f!=None:\n",
    "            f.close()\n",
    "        return cDict\n",
    "\n",
    "def Get_AoA_by_index(data:Dict[float,List[str]], key:int)->List[str]:\n",
    "    return data[list(data.keys())[key]]\n",
    "    \n",
    "#Spliting AoA Section by IBLOCK\n",
    "def Split_AoA_IBLOCK(data:List[str])->Dict[int,List[str]]:\n",
    "    Cur_IBL = None\n",
    "    cDict = {}\n",
    "    for line in data:\n",
    "        #print(line)\n",
    "        if Cur_IBL != None:\n",
    "            cDict[Cur_IBL].append(line)\n",
    "        if \"IBLOCK\" in line:\n",
    "            if Cur_IBL != None:\n",
    "                cDict[Cur_IBL].pop()\n",
    "            Cur_IBL = int(line[9:12])\n",
    "            #print(line)\n",
    "            #print(Cur_IBL)\n",
    "            cDict[Cur_IBL] = [line]\n",
    "        if \"NBL\" in line:\n",
    "            cDict[Cur_IBL].pop()\n",
    "            break\n",
    "    return cDict\n",
    "\n",
    "#Extract X,Y,Z and Cp values from IBLOCK\n",
    "def get_Cp(data:List[str])->Dict[str,List[float]]:\n",
    "    data.pop(0)\n",
    "    data.pop(0)\n",
    "    cDict = {}\n",
    "    cDict['X'] = []\n",
    "    cDict['Y'] = []\n",
    "    cDict['Z'] = []\n",
    "    cDict['Cp'] = []\n",
    "    for line in data:\n",
    "        #print(line[70:79])\n",
    "        cDict['X'].append(float(line[5:16]))\n",
    "        cDict['Y'].append(float(line[17:27]))\n",
    "        cDict['Z'].append(float(line[28:38]))\n",
    "        cDict['Cp'].append(float(line[70:79]))\n",
    "    return cDict\n",
    "        \n",
    "filename = \"D:\\Проекты\\БПЛА Доманов Орка\\Модель PANSYM\\wing_tail_20_up.ou\"\n",
    "\n",
    "Sections = Split_Section_AoA(filename)\n",
    "AoA = Get_AoA_by_index(Sections,2)\n",
    "IBLOCK = Split_AoA_IBLOCK(AoA)[10]\n",
    "Cp_data = get_Cp(IBLOCK)\n",
    "\n",
    "import matplotlib.pyplot as plt\n",
    "\n",
    "plt.scatter(Cp_data['X'],Cp_data['Cp'])\n",
    "plt.gca().invert_yaxis()\n",
    "plt.show()\n"
   ]
  }
 ],
 "metadata": {
  "kernelspec": {
   "display_name": "Python 3",
   "language": "python",
   "name": "python3"
  },
  "language_info": {
   "codemirror_mode": {
    "name": "ipython",
    "version": 3
   },
   "file_extension": ".py",
   "mimetype": "text/x-python",
   "name": "python",
   "nbconvert_exporter": "python",
   "pygments_lexer": "ipython3",
   "version": "3.7.2"
  }
 },
 "nbformat": 4,
 "nbformat_minor": 2
}
